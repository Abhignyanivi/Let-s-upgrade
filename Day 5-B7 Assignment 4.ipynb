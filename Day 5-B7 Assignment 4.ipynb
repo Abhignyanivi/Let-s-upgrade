{
 "cells": [
  {
   "cell_type": "markdown",
   "metadata": {},
   "source": [
    "#write a program to identify sub list[1,1,5] is there in the given list in the same order ,if yes print \"it's a Match\" if no then print \"it's Gone\" in the function"
   ]
  },
  {
   "cell_type": "code",
   "execution_count": 1,
   "metadata": {},
   "outputs": [
    {
     "name": "stdout",
     "output_type": "stream",
     "text": [
      "original list :[1, 1, 5, 7, 9, 6, 4]\n",
      "original sublist :[1, 1, 5]\n",
      "it's a match.\n"
     ]
    }
   ],
   "source": [
    "check_list=[1,1,5,7,9,6,4]\n",
    "sub_list=[1,1,5]\n",
    "print(\"original list :\" +str(check_list))\n",
    "print(\"original sublist :\" +str(sub_list))\n",
    "flag=0\n",
    "if (set(sub_list).issubset(set(check_list))):\n",
    "    flag=1\n",
    "if (flag):\n",
    "    print(\"it's a match.\")\n",
    "else:\n",
    "    print(\"it's gone.\")"
   ]
  },
  {
   "cell_type": "code",
   "execution_count": null,
   "metadata": {},
   "outputs": [],
   "source": []
  }
 ],
 "metadata": {
  "kernelspec": {
   "display_name": "Python 3",
   "language": "python",
   "name": "python3"
  },
  "language_info": {
   "codemirror_mode": {
    "name": "ipython",
    "version": 3
   },
   "file_extension": ".py",
   "mimetype": "text/x-python",
   "name": "python",
   "nbconvert_exporter": "python",
   "pygments_lexer": "ipython3",
   "version": "3.8.3"
  }
 },
 "nbformat": 4,
 "nbformat_minor": 4
}
