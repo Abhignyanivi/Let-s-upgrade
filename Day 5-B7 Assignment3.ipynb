{
 "cells": [
  {
   "cell_type": "markdown",
   "metadata": {},
   "source": [
    "# make a lambda function for captalizing the whole sentence passed using arguments"
   ]
  },
  {
   "cell_type": "code",
   "execution_count": 2,
   "metadata": {},
   "outputs": [
    {
     "name": "stdout",
     "output_type": "stream",
     "text": [
      "madhuri and madumitha are my crazy frds\n",
      "['Madhuri And Madumitha Are My Crazy Frds']\n"
     ]
    }
   ],
   "source": [
    "lst = [input()]\n",
    "\n",
    "lst_arg = map(lambda x: x.title(),lst)\n",
    "print(list(lst_arg))"
   ]
  },
  {
   "cell_type": "code",
   "execution_count": 3,
   "metadata": {},
   "outputs": [],
   "source": [
    "# one more captalizing lambda function"
   ]
  },
  {
   "cell_type": "code",
   "execution_count": 4,
   "metadata": {},
   "outputs": [
    {
     "name": "stdout",
     "output_type": "stream",
     "text": [
      "i thought vijji was my best friend but no she is not\n",
      "['I Thought Vijji Was My Best Friend But No She Is Not']\n"
     ]
    }
   ],
   "source": [
    "lst = [input()]\n",
    "\n",
    "lst_arg = map(lambda x: x.title(),lst)\n",
    "print(list(lst_arg))"
   ]
  },
  {
   "cell_type": "code",
   "execution_count": 5,
   "metadata": {},
   "outputs": [],
   "source": [
    "# second captalizing lambda function"
   ]
  },
  {
   "cell_type": "code",
   "execution_count": 6,
   "metadata": {},
   "outputs": [
    {
     "name": "stdout",
     "output_type": "stream",
     "text": [
      "i love uh priyanka like infinity power infinity all i want is uh being happy\n",
      "['I Love Uh Priyanka Like Infinity Power Infinity All I Want Is Uh Being Happy']\n"
     ]
    }
   ],
   "source": [
    "lst = [input()]\n",
    "\n",
    "lst_arg = map(lambda x: x.title(),lst)\n",
    "print(list(lst_arg))"
   ]
  },
  {
   "cell_type": "code",
   "execution_count": null,
   "metadata": {},
   "outputs": [],
   "source": []
  }
 ],
 "metadata": {
  "kernelspec": {
   "display_name": "Python 3",
   "language": "python",
   "name": "python3"
  },
  "language_info": {
   "codemirror_mode": {
    "name": "ipython",
    "version": 3
   },
   "file_extension": ".py",
   "mimetype": "text/x-python",
   "name": "python",
   "nbconvert_exporter": "python",
   "pygments_lexer": "ipython3",
   "version": "3.8.3"
  }
 },
 "nbformat": 4,
 "nbformat_minor": 4
}
